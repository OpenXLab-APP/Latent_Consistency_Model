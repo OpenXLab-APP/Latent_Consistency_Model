{
 "cells": [
  {
   "cell_type": "code",
   "execution_count": null,
   "metadata": {
    "colab": {
     "base_uri": "https://localhost:8080/"
    },
    "id": "-ayiROzqJeXB",
    "outputId": "c7710012-c311-4203-9dc8-6333f0eb0e66"
   },
   "outputs": [],
   "source": [
    "!git clone -q https://huggingface.co/spaces/hysts/SD-XL\n",
    "%cd SD-XL\n",
    "%pip install -q -r requirements.txt"
   ]
  },
  {
   "cell_type": "code",
   "execution_count": null,
   "metadata": {
    "id": "QSF_GqTKJsN5"
   },
   "outputs": [],
   "source": [
    "import os\n",
    "\n",
    "os.environ[\"ENABLE_REFINER\"] = \"0\""
   ]
  },
  {
   "cell_type": "code",
   "execution_count": null,
   "metadata": {
    "id": "LJbHj7yLJ9p0"
   },
   "outputs": [],
   "source": [
    "from app import demo\n",
    "\n",
    "demo.queue().launch()"
   ]
  }
 ],
 "metadata": {
  "accelerator": "GPU",
  "colab": {
   "gpuType": "T4",
   "provenance": []
  },
  "language_info": {
   "name": "python"
  }
 },
 "nbformat": 4,
 "nbformat_minor": 0
}
